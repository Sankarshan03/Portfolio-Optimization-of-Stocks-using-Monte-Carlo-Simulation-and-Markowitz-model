{
 "cells": [
  {
   "cell_type": "code",
   "execution_count": 2,
   "metadata": {},
   "outputs": [],
   "source": [
    "import numpy as np\n",
    "import pandas as pd\n",
    "import matplotlib.pyplot as plt\n",
    "import yfinance as yf\n",
    "from scipy.optimize import minimize"
   ]
  },
  {
   "cell_type": "code",
   "execution_count": 3,
   "metadata": {},
   "outputs": [
    {
     "name": "stdout",
     "output_type": "stream",
     "text": [
      "[*********************100%***********************]  1 of 1 completed\n",
      "[*********************100%***********************]  1 of 1 completed\n",
      "[*********************100%***********************]  1 of 1 completed\n",
      "[*********************100%***********************]  1 of 1 completed\n",
      "[*********************100%***********************]  1 of 1 completed\n",
      "[*********************100%***********************]  1 of 1 completed\n"
     ]
    }
   ],
   "source": [
    "aapl = yf.download(tickers='AAPL', period='1mo')\n",
    "jnj = yf.download(tickers='JNJ', period='1mo')\n",
    "jpm = yf.download(tickers='JPM', period='1mo')\n",
    "pg = yf.download(tickers='PG', period='1mo')\n",
    "xom = yf.download(tickers='XOM', period='1mo')\n",
    "nee = yf.download(tickers='NEE', period='1mo')"
   ]
  },
  {
   "cell_type": "code",
   "execution_count": 4,
   "metadata": {},
   "outputs": [
    {
     "name": "stdout",
     "output_type": "stream",
     "text": [
      "              AAPL       JNJ       JPM            PG       XOM       NEE\n",
      "AAPL  4.493282e-04 -0.000044 -0.000140  5.714955e-07 -0.000096 -0.000189\n",
      "JNJ  -4.369454e-05  0.000039  0.000016  6.104390e-06  0.000018  0.000034\n",
      "JPM  -1.402028e-04  0.000016  0.000146 -7.297959e-06  0.000056  0.000066\n",
      "PG    5.714955e-07  0.000006 -0.000007  5.499244e-05 -0.000014  0.000030\n",
      "XOM  -9.557176e-05  0.000018  0.000056 -1.397895e-05  0.000127  0.000063\n",
      "NEE  -1.894302e-04  0.000034  0.000066  3.045417e-05  0.000063  0.000401\n"
     ]
    }
   ],
   "source": [
    "aapl['Return'] = aapl['Adj Close'].pct_change()\n",
    "jnj['Return'] = jnj['Adj Close'].pct_change()\n",
    "jpm['Return'] = jpm['Adj Close'].pct_change()\n",
    "pg['Return'] = pg['Adj Close'].pct_change()\n",
    "xom['Return'] = xom['Adj Close'].pct_change()\n",
    "nee['Return']=nee['Adj Close'].pct_change()\n",
    "returns = pd.DataFrame({\n",
    "    'AAPL': aapl['Return'],\n",
    "    'JNJ': jnj['Return'],\n",
    "    'JPM': jpm['Return'],\n",
    "    'PG': pg['Return'],\n",
    "    'XOM': xom['Return'],\n",
    "    'NEE':nee['Return']\n",
    "})\n",
    "\n",
    "# Drop any rows with NaN values\n",
    "returns.dropna(inplace=True)\n",
    "\n",
    "# Calculate the variance-covariance matrix\n",
    "C = returns.cov()\n",
    "\n",
    "print(C)\n"
   ]
  },
  {
   "cell_type": "code",
   "execution_count": 5,
   "metadata": {},
   "outputs": [
    {
     "name": "stdout",
     "output_type": "stream",
     "text": [
      "Optimization terminated successfully    (Exit mode 0)\n",
      "            Current function value: 6.654618020559084e-06\n",
      "            Iterations: 6\n",
      "            Function evaluations: 42\n",
      "            Gradient evaluations: 6\n",
      "Optimal weights: [0.20164891 0.17146279 0.16542257 0.17402397 0.166752   0.12068976]\n",
      "Objective function value at optimal weights: 6.654618020559084e-06\n",
      "Success: True\n",
      "Message: Optimization terminated successfully\n"
     ]
    }
   ],
   "source": [
    "#METHOD- 1 IMPLEMTATION\n",
    "\n",
    "w0 = np.ones(6)/6   #initial guess for weight matrix\n",
    "C = np.array(C)\n",
    "def obj_function(w, C):\n",
    "    P = C @ w\n",
    "    MCR = P/np.sqrt(w.T @ C @ w)\n",
    "    f = 0.0\n",
    "    for i in range(len(w)):\n",
    "        for j in range(len(w)):\n",
    "            f += (w[i] * MCR[i] - w[j] * MCR[j]) ** 2\n",
    "    return f\n",
    "\n",
    "def objective(w):\n",
    "    return obj_function(w, C)\n",
    "\n",
    "# Constraints\n",
    "constraints = (\n",
    "    {'type': 'eq', 'fun': lambda w: np.sum(w) - 1},  # Equality constraint: sum(w) = 1\n",
    "    {'type': 'ineq', 'fun': lambda w: w}             # Inequality constraint: w >= 0\n",
    ")\n",
    "\n",
    "# Bounds\n",
    "bounds = [(0, 1) for _ in range(C.shape[1])]\n",
    "\n",
    "\n",
    "\n",
    "# Optimize\n",
    "result = minimize(objective, w0, method='SLSQP', constraints=constraints, bounds=bounds, options={'disp': True})\n",
    "\n",
    "# Optimal weights\n",
    "optimal_weights = result.x\n",
    "\n",
    "print(\"Optimal weights:\", optimal_weights)\n",
    "print(\"Objective function value at optimal weights:\", result.fun)\n",
    "print(\"Success:\", result.success)\n",
    "print(\"Message:\", result.message)"
   ]
  },
  {
   "cell_type": "code",
   "execution_count": 6,
   "metadata": {},
   "outputs": [
    {
     "name": "stdout",
     "output_type": "stream",
     "text": [
      "Optimization terminated successfully    (Exit mode 0)\n",
      "            Current function value: 0.01777314510674372\n",
      "            Iterations: 23\n",
      "            Function evaluations: 162\n",
      "            Gradient evaluations: 23\n",
      "Optimal weights: [0.77823562 1.         0.7585469  0.96715905 0.66749654 0.35511615]\n",
      "Objective function value at optimal weights: 0.01777314510674372\n",
      "Success: True\n",
      "Message: Optimization terminated successfully\n",
      "[0.17192672 0.22091859 0.16757711 0.21366342 0.1474624  0.07845176]\n"
     ]
    }
   ],
   "source": [
    "#METHOD-2 IMPLEMNTATION\n",
    "w = np.ones(6)/6   #initial guess for weight matrix\n",
    "C = np.array(C)\n",
    "def obj_function(w, C):\n",
    "    return np.sqrt(w.T @ C @ w)\n",
    "\n",
    "\n",
    "def objective(w):\n",
    "    return obj_function(w, C)\n",
    "\n",
    "# Constraints\n",
    "constraints = (\n",
    " {'type': 'eq', 'fun': lambda w: np.sum(np.log(w)) + 2 },  #I have taken c = -2, you can take other arbitrary constant which gives a feasible soln\n",
    "    {'type': 'ineq', 'fun': lambda w: w}             # Inequality constraint: w >= 0\n",
    ")\n",
    "\n",
    "# Bounds\n",
    "bounds = [(0, 1) for _ in range(C.shape[1])]\n",
    "\n",
    "\n",
    "\n",
    "# Optimize\n",
    "result = minimize(objective, w, method='SLSQP', constraints=constraints, bounds=bounds, options={'disp': True})\n",
    "\n",
    "# Optimal weights\n",
    "optimal_weights = result.x\n",
    "\n",
    "print(\"Optimal weights:\", optimal_weights)\n",
    "print(\"Objective function value at optimal weights:\", result.fun)\n",
    "print(\"Success:\", result.success)\n",
    "print(\"Message:\", result.message)\n",
    "\n",
    "y = np.array(optimal_weights)\n",
    "#Normalise\n",
    "w = y/np.sum(y)\n",
    "print(w)   #Final weight matrix"
   ]
  },
  {
   "cell_type": "code",
   "execution_count": 7,
   "metadata": {},
   "outputs": [],
   "source": [
    "# No. of days taken here are 105 which is equivalent to 5 months counted towards the working days in NASDAQ or NSE\n",
    "expected_return=np.sum(returns[returns>0].mean()*w*105)\n",
    "variance=np.dot(w.T,np.dot(returns[returns>0].cov()*105,w))\n",
    "\n"
   ]
  },
  {
   "cell_type": "code",
   "execution_count": 10,
   "metadata": {},
   "outputs": [],
   "source": [
    "# No. of days taken here are 105 which is equivalent to 5 months counted towards the working days in NASDAQ or NSE\n",
    "new_expected_return=np.sum(returns[returns>0].mean()*optimal_weights*105)\n",
    "new_variance=np.dot(optimal_weights.T,np.dot(returns[returns>0].cov()*105,optimal_weights))\n",
    "\n"
   ]
  },
  {
   "cell_type": "code",
   "execution_count": 12,
   "metadata": {},
   "outputs": [
    {
     "name": "stdout",
     "output_type": "stream",
     "text": [
      "Market Cap Weighted Portfolio Variance: 0.00013426323039636762\n",
      "Optimal Variance of Portfolio 0.0014720528358540042\n"
     ]
    }
   ],
   "source": [
    "import numpy as np\n",
    "import pandas as pd\n",
    "\n",
    "# Market capitalization data (in billions)\n",
    "market_caps = pd.Series({\n",
    "    'AAPL': 2870,\n",
    "    'JNJ': 425,\n",
    "    'JPM': 460,\n",
    "    'PG': 350,\n",
    "    'XOM': 450,\n",
    "    'NEE': 140\n",
    "})\n",
    "\n",
    "\n",
    "# Calculate market cap weights\n",
    "total_market_cap = market_caps.sum()\n",
    "market_cap_weights = market_caps / total_market_cap\n",
    "\n",
    "# Calculate portfolio variance for market cap weighted portfolio\n",
    "market_cap_portfolio_variance = np.dot(market_cap_weights.T, np.dot(C, market_cap_weights))\n",
    "\n",
    "\n",
    "print(\"Market Cap Weighted Portfolio Variance:\", market_cap_portfolio_variance)\n",
    "print(\"Optimal Variance of Portfolio\",variance)"
   ]
  }
 ],
 "metadata": {
  "kernelspec": {
   "display_name": "Python 3",
   "language": "python",
   "name": "python3"
  },
  "language_info": {
   "codemirror_mode": {
    "name": "ipython",
    "version": 3
   },
   "file_extension": ".py",
   "mimetype": "text/x-python",
   "name": "python",
   "nbconvert_exporter": "python",
   "pygments_lexer": "ipython3",
   "version": "3.10.4"
  }
 },
 "nbformat": 4,
 "nbformat_minor": 2
}
